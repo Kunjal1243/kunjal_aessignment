{
 "cells": [
  {
   "cell_type": "code",
   "execution_count": 7,
   "id": "9e18ea7d",
   "metadata": {},
   "outputs": [
    {
     "name": "stdout",
     "output_type": "stream",
     "text": [
      "1\n",
      "1 Positive number\n"
     ]
    }
   ],
   "source": [
    "# solution :- 1\n",
    "# program to check if a number is positive,negative or zero.\n",
    "d = int(input())\n",
    "if (d>0):\n",
    "    print(d,'Positive number')\n",
    "elif (d==0):\n",
    "    print(d,'zero')\n",
    "elif (d<0):\n",
    "    print(d,'Negative number')"
   ]
  },
  {
   "cell_type": "code",
   "execution_count": 12,
   "id": "529c8a0c",
   "metadata": {},
   "outputs": [
    {
     "name": "stdout",
     "output_type": "stream",
     "text": [
      "6\n",
      "factorial number is: 30\n",
      "factorial number is: 20\n",
      "factorial number is: 12\n",
      "factorial number is: 6\n",
      "factorial number is: 2\n",
      "factorial number is: 0\n"
     ]
    }
   ],
   "source": [
    "# solution :- 2\n",
    "# program to get the factorial number of given number.\n",
    "#factorial of 5! means 5*4*3*2*1=120\n",
    "f=int(input())\n",
    "for i in range (1,f+1):\n",
    "    k=f*(f-1)\n",
    "    print(\"factorial number is:\",k)\n",
    "    f-=1"
   ]
  },
  {
   "cell_type": "code",
   "execution_count": null,
   "id": "415afbb0",
   "metadata": {},
   "outputs": [],
   "source": [
    "# How memory is managed in Python?\n"
   ]
  },
  {
   "cell_type": "code",
   "execution_count": 1,
   "id": "c0e37983",
   "metadata": {},
   "outputs": [
    {
     "name": "stdout",
     "output_type": "stream",
     "text": [
      "var1 is: 25\n",
      "var2 is: 24\n",
      "35\n",
      "34\n",
      "var1 is: 34\n",
      "var2 is: 35\n"
     ]
    }
   ],
   "source": [
    "# program that swap two number with temp variable and without temp variable.\n",
    "\n",
    "# without temp variable.\n",
    "var1=24\n",
    "var2=25\n",
    "var1,var2=var2,var1\n",
    "print('var1 is:',var1)\n",
    "print('var2 is:',var2)\n",
    "\n",
    "# with temp variable.\n",
    "var1=int(input())\n",
    "var2=int(input())\n",
    "var1,var2=var2,var1\n",
    "print('var1 is:',var1)\n",
    "print('var2 is:',var2)"
   ]
  },
  {
   "cell_type": "code",
   "execution_count": 25,
   "id": "4e09645f",
   "metadata": {},
   "outputs": [
    {
     "name": "stdout",
     "output_type": "stream",
     "text": [
      "9\n",
      "9 is odd number\n"
     ]
    }
   ],
   "source": [
    "# program to find whether a given number is even or odd, print out an appropriate message to the user.\n",
    "d = int(input())\n",
    "if (d%2)==0:\n",
    "    print(d,'is even number')\n",
    "else:\n",
    "    print(d,'is odd number')"
   ]
  },
  {
   "cell_type": "code",
   "execution_count": 13,
   "id": "8253fc14",
   "metadata": {},
   "outputs": [
    {
     "name": "stdout",
     "output_type": "stream",
     "text": [
      "d\n",
      "d is not vowel\n"
     ]
    }
   ],
   "source": [
    "# program to test whether a passed letter is a vowel or not.\n",
    "d = input()\n",
    "vowel = ('a','e','i','o','u')\n",
    "if d in vowel:\n",
    "    print(d,'is vowel')\n",
    "else:\n",
    "    print(d,'is not vowel')"
   ]
  },
  {
   "cell_type": "code",
   "execution_count": 7,
   "id": "6bf203e0",
   "metadata": {},
   "outputs": [
    {
     "name": "stdout",
     "output_type": "stream",
     "text": [
      "3\n",
      "4\n",
      "5\n",
      "sum of x+y+z is: 12\n"
     ]
    }
   ],
   "source": [
    "# program to sum of three given integers.However, if two values are equal sum will be zero.\n",
    "x=int(input())\n",
    "y=int(input())\n",
    "z=int(input())\n",
    "sum = (x+y+z)\n",
    "if x!=y!=z:\n",
    "    print('sum of x+y+z is:',sum)\n",
    "else:\n",
    "    print('sum will be zero')"
   ]
  },
  {
   "cell_type": "code",
   "execution_count": 3,
   "id": "b83da06b",
   "metadata": {},
   "outputs": [
    {
     "name": "stdout",
     "output_type": "stream",
     "text": [
      "2\n",
      "3\n",
      "true\n"
     ]
    }
   ],
   "source": [
    "# program that will return true ifthe two given integervalues are equal or their sum or difference is 5.\n",
    "a=int(input())\n",
    "b=int(input())\n",
    "c=a+b\n",
    "d=a-b\n",
    "if (a==b)or(c==5)or(d==5):\n",
    "    print('true')\n",
    "else:\n",
    "    print('false')"
   ]
  },
  {
   "cell_type": "code",
   "execution_count": 14,
   "id": "bc9ddfb9",
   "metadata": {},
   "outputs": [
    {
     "name": "stdout",
     "output_type": "stream",
     "text": [
      "i am learning python programming.\n",
      "length of a string is 33\n"
     ]
    }
   ],
   "source": [
    "# program to calculate the length of a string.\n",
    "str=input()\n",
    "print('length of a string is',len(str))"
   ]
  }
 ],
 "metadata": {
  "kernelspec": {
   "display_name": "Python 3 (ipykernel)",
   "language": "python",
   "name": "python3"
  },
  "language_info": {
   "codemirror_mode": {
    "name": "ipython",
    "version": 3
   },
   "file_extension": ".py",
   "mimetype": "text/x-python",
   "name": "python",
   "nbconvert_exporter": "python",
   "pygments_lexer": "ipython3",
   "version": "3.9.13"
  }
 },
 "nbformat": 4,
 "nbformat_minor": 5
}
