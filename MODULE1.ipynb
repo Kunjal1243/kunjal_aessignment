{
 "cells": [
  {
   "cell_type": "code",
   "execution_count": null,
   "id": "3846e5eb",
   "metadata": {},
   "outputs": [],
   "source": [
    "1.What is software?\n",
    "• Software is nothing but a collection of computer programs and related documents that are intended to provide \n",
    "  desired features, functionalities and better performance.\n",
    "• Software products maybe two types.\n",
    "    1.Generic :- same software for range of customers\n",
    "    2.System :- for single customer according to their specifications"
   ]
  },
  {
   "cell_type": "code",
   "execution_count": null,
   "id": "db4516e7",
   "metadata": {},
   "outputs": [],
   "source": [
    "2.What are the types of application?\n",
    "• Two types of applications are\n",
    " 1.System Software :- system software serves as the interface between the hardware and the end users.\n",
    " 2.Application software :- it is a computer program designed to carry out a specific task other than one relating to \n",
    "                           the operation of the computer itself, typically to be used by end users.\n"
   ]
  },
  {
   "cell_type": "code",
   "execution_count": null,
   "id": "30f23ace",
   "metadata": {},
   "outputs": [],
   "source": [
    "3.What is programming?\n",
    "• Programming is the process of giving machines a set of instructions that describe how a program should be carried\n",
    "  out.\n",
    "• “Programming is how you get computers to solve problems.”  Where You means: without the programmer (you), the \n",
    "  computer is useless. It does what you tell it to do.\n",
    "  Where Solve problems: computers are tools. They are complex tools, admittedly, but they are not mysterious or \n",
    "  magical: they exist to make tasks easier.\n"
   ]
  },
  {
   "cell_type": "code",
   "execution_count": null,
   "id": "07fb2d52",
   "metadata": {},
   "outputs": [],
   "source": [
    "4.What is python?\n",
    "• Python is an interpreted, object-oriented, high-level programming language with dynamic semantics. Python supports\n",
    "  modules and packages, which encourages program modularity and code reuse.\n",
    "• Python is open source and case sensitive language.\n",
    "• Python used interpreter instead of compiler. \n",
    "• Python is used for develop games, webpages, machine learing, deep learning, artificial intelligence, data science \n",
    "  and data analytics.\n"
   ]
  }
 ],
 "metadata": {
  "kernelspec": {
   "display_name": "Python 3 (ipykernel)",
   "language": "python",
   "name": "python3"
  },
  "language_info": {
   "codemirror_mode": {
    "name": "ipython",
    "version": 3
   },
   "file_extension": ".py",
   "mimetype": "text/x-python",
   "name": "python",
   "nbconvert_exporter": "python",
   "pygments_lexer": "ipython3",
   "version": "3.9.13"
  }
 },
 "nbformat": 4,
 "nbformat_minor": 5
}
